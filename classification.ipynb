{
 "cells": [
  {
   "cell_type": "code",
   "execution_count": 2,
   "metadata": {},
   "outputs": [],
   "source": [
    "from ultralytics import YOLO\n"
   ]
  },
  {
   "cell_type": "code",
   "execution_count": 3,
   "metadata": {},
   "outputs": [],
   "source": [
    "model = YOLO(\"D:\\cvvvv\\classification\\yolov8n-cls.pt\")\n"
   ]
  },
  {
   "cell_type": "code",
   "execution_count": null,
   "metadata": {},
   "outputs": [],
   "source": [
    "model.train(data=\"D:\\cvvvv\\classification\\Alzheimer_s Dataset\", epochs=5)\n"
   ]
  },
  {
   "cell_type": "code",
   "execution_count": null,
   "metadata": {},
   "outputs": [],
   "source": [
    "metrics = model.val()\n",
    "print(f\"Top-1 Accuracy: {metrics.top1}\")\n",
    "print(f\"Top-5 Accuracy: {metrics.top5}\")"
   ]
  },
  {
   "cell_type": "code",
   "execution_count": null,
   "metadata": {},
   "outputs": [],
   "source": [
    "image_path = \"D:\\cvvvv\\classification\\Alzheimer_s Dataset\\test\\MildDemented\\28 (10).jpg\"\n",
    "results = model.predict(image_path)"
   ]
  },
  {
   "cell_type": "code",
   "execution_count": null,
   "metadata": {},
   "outputs": [],
   "source": [
    "if results and len(results) > 0:\n",
    "    print(\"Predicted probabilities:\")\n",
    "    for class_idx, prob in enumerate(results[0].probs):\n",
    "        print(f\"Class {class_idx}: {prob:.4f}\")\n",
    "else:\n",
    "    print(\"Prediction results are not in the expected format.\")"
   ]
  }
 ],
 "metadata": {
  "kernelspec": {
   "display_name": "Python 3",
   "language": "python",
   "name": "python3"
  },
  "language_info": {
   "codemirror_mode": {
    "name": "ipython",
    "version": 3
   },
   "file_extension": ".py",
   "mimetype": "text/x-python",
   "name": "python",
   "nbconvert_exporter": "python",
   "pygments_lexer": "ipython3",
   "version": "3.11.9"
  }
 },
 "nbformat": 4,
 "nbformat_minor": 2
}
